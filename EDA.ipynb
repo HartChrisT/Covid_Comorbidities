{
 "cells": [
  {
   "cell_type": "code",
   "execution_count": 1,
   "id": "1ce816da",
   "metadata": {},
   "outputs": [],
   "source": [
    "import pandas as pd\n",
    "import numpy as np\n",
    "import seaborn as sns\n",
    "import matplotlib.pyplot as plt\n",
    "from pathlib import Path\n",
    "from collections import Counter"
   ]
  },
  {
   "cell_type": "code",
   "execution_count": 2,
   "id": "e39414f3",
   "metadata": {},
   "outputs": [],
   "source": [
    "data = pd.read_csv(\"C:/Users/Danie/OneDrive/Desktop/Columbia_Bootcamp/Modules/Module_20_2/class/Covid_Comorbidities/Database/Resources/Covid-19/Cleaned_Data/MACHINE_LEARNING_FINAL_STRIPPED.csv\")"
   ]
  },
  {
   "cell_type": "code",
   "execution_count": 3,
   "id": "a35f0b38",
   "metadata": {},
   "outputs": [
    {
     "data": {
      "text/html": [
       "<div>\n",
       "<style scoped>\n",
       "    .dataframe tbody tr th:only-of-type {\n",
       "        vertical-align: middle;\n",
       "    }\n",
       "\n",
       "    .dataframe tbody tr th {\n",
       "        vertical-align: top;\n",
       "    }\n",
       "\n",
       "    .dataframe thead th {\n",
       "        text-align: right;\n",
       "    }\n",
       "</style>\n",
       "<table border=\"1\" class=\"dataframe\">\n",
       "  <thead>\n",
       "    <tr style=\"text-align: right;\">\n",
       "      <th></th>\n",
       "      <th>Unnamed: 0</th>\n",
       "      <th>County_name</th>\n",
       "      <th>State</th>\n",
       "      <th>age_group</th>\n",
       "      <th>sex</th>\n",
       "      <th>symptom_status</th>\n",
       "      <th>hosp_yn</th>\n",
       "      <th>icu_yn</th>\n",
       "      <th>death_yn</th>\n",
       "      <th>underlying_conditions_yn</th>\n",
       "    </tr>\n",
       "  </thead>\n",
       "  <tbody>\n",
       "    <tr>\n",
       "      <th>0</th>\n",
       "      <td>0</td>\n",
       "      <td>Wayne</td>\n",
       "      <td>OH</td>\n",
       "      <td>65+ years</td>\n",
       "      <td>Male</td>\n",
       "      <td>Symptomatic</td>\n",
       "      <td>Yes</td>\n",
       "      <td>No</td>\n",
       "      <td>No</td>\n",
       "      <td>Yes</td>\n",
       "    </tr>\n",
       "    <tr>\n",
       "      <th>1</th>\n",
       "      <td>1</td>\n",
       "      <td>Wayne</td>\n",
       "      <td>OH</td>\n",
       "      <td>65+ years</td>\n",
       "      <td>Male</td>\n",
       "      <td>Symptomatic</td>\n",
       "      <td>Yes</td>\n",
       "      <td>No</td>\n",
       "      <td>No</td>\n",
       "      <td>Yes</td>\n",
       "    </tr>\n",
       "    <tr>\n",
       "      <th>2</th>\n",
       "      <td>2</td>\n",
       "      <td>Wayne</td>\n",
       "      <td>OH</td>\n",
       "      <td>65+ years</td>\n",
       "      <td>Male</td>\n",
       "      <td>Symptomatic</td>\n",
       "      <td>No</td>\n",
       "      <td>No</td>\n",
       "      <td>Yes</td>\n",
       "      <td>Yes</td>\n",
       "    </tr>\n",
       "    <tr>\n",
       "      <th>3</th>\n",
       "      <td>3</td>\n",
       "      <td>Wayne</td>\n",
       "      <td>OH</td>\n",
       "      <td>65+ years</td>\n",
       "      <td>Male</td>\n",
       "      <td>Symptomatic</td>\n",
       "      <td>No</td>\n",
       "      <td>No</td>\n",
       "      <td>No</td>\n",
       "      <td>Yes</td>\n",
       "    </tr>\n",
       "    <tr>\n",
       "      <th>4</th>\n",
       "      <td>4</td>\n",
       "      <td>Wayne</td>\n",
       "      <td>OH</td>\n",
       "      <td>65+ years</td>\n",
       "      <td>Male</td>\n",
       "      <td>Symptomatic</td>\n",
       "      <td>No</td>\n",
       "      <td>No</td>\n",
       "      <td>No</td>\n",
       "      <td>Yes</td>\n",
       "    </tr>\n",
       "  </tbody>\n",
       "</table>\n",
       "</div>"
      ],
      "text/plain": [
       "   Unnamed: 0 County_name State  age_group   sex symptom_status hosp_yn  \\\n",
       "0           0       Wayne    OH  65+ years  Male    Symptomatic     Yes   \n",
       "1           1       Wayne    OH  65+ years  Male    Symptomatic     Yes   \n",
       "2           2       Wayne    OH  65+ years  Male    Symptomatic      No   \n",
       "3           3       Wayne    OH  65+ years  Male    Symptomatic      No   \n",
       "4           4       Wayne    OH  65+ years  Male    Symptomatic      No   \n",
       "\n",
       "  icu_yn death_yn underlying_conditions_yn  \n",
       "0     No       No                      Yes  \n",
       "1     No       No                      Yes  \n",
       "2     No      Yes                      Yes  \n",
       "3     No       No                      Yes  \n",
       "4     No       No                      Yes  "
      ]
     },
     "execution_count": 3,
     "metadata": {},
     "output_type": "execute_result"
    }
   ],
   "source": [
    "data.head()\n"
   ]
  },
  {
   "cell_type": "code",
   "execution_count": 4,
   "id": "ee357085",
   "metadata": {},
   "outputs": [
    {
     "data": {
      "text/html": [
       "<div>\n",
       "<style scoped>\n",
       "    .dataframe tbody tr th:only-of-type {\n",
       "        vertical-align: middle;\n",
       "    }\n",
       "\n",
       "    .dataframe tbody tr th {\n",
       "        vertical-align: top;\n",
       "    }\n",
       "\n",
       "    .dataframe thead th {\n",
       "        text-align: right;\n",
       "    }\n",
       "</style>\n",
       "<table border=\"1\" class=\"dataframe\">\n",
       "  <thead>\n",
       "    <tr style=\"text-align: right;\">\n",
       "      <th></th>\n",
       "      <th>Unnamed: 0</th>\n",
       "      <th>County_name</th>\n",
       "      <th>State</th>\n",
       "      <th>age_group</th>\n",
       "      <th>sex</th>\n",
       "      <th>symptom_status</th>\n",
       "      <th>hosp_yn</th>\n",
       "      <th>icu_yn</th>\n",
       "      <th>death_yn</th>\n",
       "      <th>underlying_conditions_yn</th>\n",
       "    </tr>\n",
       "  </thead>\n",
       "  <tbody>\n",
       "    <tr>\n",
       "      <th>446683</th>\n",
       "      <td>446683</td>\n",
       "      <td>Orleans</td>\n",
       "      <td>NY</td>\n",
       "      <td>50 to 64 years</td>\n",
       "      <td>Female</td>\n",
       "      <td>Symptomatic</td>\n",
       "      <td>Yes</td>\n",
       "      <td>No</td>\n",
       "      <td>No</td>\n",
       "      <td>Yes</td>\n",
       "    </tr>\n",
       "    <tr>\n",
       "      <th>446684</th>\n",
       "      <td>446684</td>\n",
       "      <td>Orleans</td>\n",
       "      <td>NY</td>\n",
       "      <td>18 to 49 years</td>\n",
       "      <td>Female</td>\n",
       "      <td>Symptomatic</td>\n",
       "      <td>Yes</td>\n",
       "      <td>No</td>\n",
       "      <td>No</td>\n",
       "      <td>Yes</td>\n",
       "    </tr>\n",
       "    <tr>\n",
       "      <th>446685</th>\n",
       "      <td>446685</td>\n",
       "      <td>Orleans</td>\n",
       "      <td>NY</td>\n",
       "      <td>18 to 49 years</td>\n",
       "      <td>Female</td>\n",
       "      <td>Symptomatic</td>\n",
       "      <td>No</td>\n",
       "      <td>No</td>\n",
       "      <td>No</td>\n",
       "      <td>Yes</td>\n",
       "    </tr>\n",
       "    <tr>\n",
       "      <th>446686</th>\n",
       "      <td>446686</td>\n",
       "      <td>Orleans</td>\n",
       "      <td>NY</td>\n",
       "      <td>18 to 49 years</td>\n",
       "      <td>Female</td>\n",
       "      <td>Symptomatic</td>\n",
       "      <td>No</td>\n",
       "      <td>No</td>\n",
       "      <td>No</td>\n",
       "      <td>Yes</td>\n",
       "    </tr>\n",
       "    <tr>\n",
       "      <th>446687</th>\n",
       "      <td>446687</td>\n",
       "      <td>DeKalb</td>\n",
       "      <td>AL</td>\n",
       "      <td>18 to 49 years</td>\n",
       "      <td>Female</td>\n",
       "      <td>Symptomatic</td>\n",
       "      <td>No</td>\n",
       "      <td>No</td>\n",
       "      <td>No</td>\n",
       "      <td>Yes</td>\n",
       "    </tr>\n",
       "  </tbody>\n",
       "</table>\n",
       "</div>"
      ],
      "text/plain": [
       "        Unnamed: 0 County_name State       age_group     sex symptom_status  \\\n",
       "446683      446683     Orleans    NY  50 to 64 years  Female    Symptomatic   \n",
       "446684      446684     Orleans    NY  18 to 49 years  Female    Symptomatic   \n",
       "446685      446685     Orleans    NY  18 to 49 years  Female    Symptomatic   \n",
       "446686      446686     Orleans    NY  18 to 49 years  Female    Symptomatic   \n",
       "446687      446687      DeKalb    AL  18 to 49 years  Female    Symptomatic   \n",
       "\n",
       "       hosp_yn icu_yn death_yn underlying_conditions_yn  \n",
       "446683     Yes     No       No                      Yes  \n",
       "446684     Yes     No       No                      Yes  \n",
       "446685      No     No       No                      Yes  \n",
       "446686      No     No       No                      Yes  \n",
       "446687      No     No       No                      Yes  "
      ]
     },
     "execution_count": 4,
     "metadata": {},
     "output_type": "execute_result"
    }
   ],
   "source": [
    "data.tail()"
   ]
  },
  {
   "cell_type": "code",
   "execution_count": 5,
   "id": "aed741de",
   "metadata": {},
   "outputs": [
    {
     "data": {
      "text/html": [
       "<div>\n",
       "<style scoped>\n",
       "    .dataframe tbody tr th:only-of-type {\n",
       "        vertical-align: middle;\n",
       "    }\n",
       "\n",
       "    .dataframe tbody tr th {\n",
       "        vertical-align: top;\n",
       "    }\n",
       "\n",
       "    .dataframe thead th {\n",
       "        text-align: right;\n",
       "    }\n",
       "</style>\n",
       "<table border=\"1\" class=\"dataframe\">\n",
       "  <thead>\n",
       "    <tr style=\"text-align: right;\">\n",
       "      <th></th>\n",
       "      <th>Unnamed: 0</th>\n",
       "    </tr>\n",
       "  </thead>\n",
       "  <tbody>\n",
       "    <tr>\n",
       "      <th>count</th>\n",
       "      <td>446688.000000</td>\n",
       "    </tr>\n",
       "    <tr>\n",
       "      <th>mean</th>\n",
       "      <td>223343.500000</td>\n",
       "    </tr>\n",
       "    <tr>\n",
       "      <th>std</th>\n",
       "      <td>128947.862859</td>\n",
       "    </tr>\n",
       "    <tr>\n",
       "      <th>min</th>\n",
       "      <td>0.000000</td>\n",
       "    </tr>\n",
       "    <tr>\n",
       "      <th>25%</th>\n",
       "      <td>111671.750000</td>\n",
       "    </tr>\n",
       "    <tr>\n",
       "      <th>50%</th>\n",
       "      <td>223343.500000</td>\n",
       "    </tr>\n",
       "    <tr>\n",
       "      <th>75%</th>\n",
       "      <td>335015.250000</td>\n",
       "    </tr>\n",
       "    <tr>\n",
       "      <th>max</th>\n",
       "      <td>446687.000000</td>\n",
       "    </tr>\n",
       "  </tbody>\n",
       "</table>\n",
       "</div>"
      ],
      "text/plain": [
       "          Unnamed: 0\n",
       "count  446688.000000\n",
       "mean   223343.500000\n",
       "std    128947.862859\n",
       "min         0.000000\n",
       "25%    111671.750000\n",
       "50%    223343.500000\n",
       "75%    335015.250000\n",
       "max    446687.000000"
      ]
     },
     "execution_count": 5,
     "metadata": {},
     "output_type": "execute_result"
    }
   ],
   "source": [
    "data.describe()"
   ]
  },
  {
   "cell_type": "code",
   "execution_count": 6,
   "id": "33c38339",
   "metadata": {
    "scrolled": true
   },
   "outputs": [
    {
     "data": {
      "text/plain": [
       "Unnamed: 0                  446688\n",
       "County_name                    481\n",
       "State                           27\n",
       "age_group                        5\n",
       "sex                              2\n",
       "symptom_status                   2\n",
       "hosp_yn                          2\n",
       "icu_yn                           2\n",
       "death_yn                         2\n",
       "underlying_conditions_yn         2\n",
       "dtype: int64"
      ]
     },
     "execution_count": 6,
     "metadata": {},
     "output_type": "execute_result"
    }
   ],
   "source": [
    "data.nunique()"
   ]
  },
  {
   "cell_type": "code",
   "execution_count": 7,
   "id": "70d5fdf0",
   "metadata": {},
   "outputs": [
    {
     "data": {
      "text/plain": [
       "Unnamed: 0                  0\n",
       "County_name                 0\n",
       "State                       0\n",
       "age_group                   0\n",
       "sex                         0\n",
       "symptom_status              0\n",
       "hosp_yn                     0\n",
       "icu_yn                      0\n",
       "death_yn                    0\n",
       "underlying_conditions_yn    0\n",
       "dtype: int64"
      ]
     },
     "execution_count": 7,
     "metadata": {},
     "output_type": "execute_result"
    }
   ],
   "source": [
    "data.isnull().sum()"
   ]
  },
  {
   "cell_type": "code",
   "execution_count": 8,
   "id": "5a9c7ba9",
   "metadata": {
    "scrolled": true
   },
   "outputs": [
    {
     "data": {
      "text/plain": [
       "array(['65+ years', '18 to 49 years', '50 to 64 years', '0 - 17 years',\n",
       "       'Missing'], dtype=object)"
      ]
     },
     "execution_count": 8,
     "metadata": {},
     "output_type": "execute_result"
    }
   ],
   "source": [
    "data['age_group'].unique()"
   ]
  },
  {
   "cell_type": "code",
   "execution_count": 9,
   "id": "ac77f44c",
   "metadata": {
    "scrolled": false
   },
   "outputs": [
    {
     "data": {
      "text/html": [
       "<div>\n",
       "<style scoped>\n",
       "    .dataframe tbody tr th:only-of-type {\n",
       "        vertical-align: middle;\n",
       "    }\n",
       "\n",
       "    .dataframe tbody tr th {\n",
       "        vertical-align: top;\n",
       "    }\n",
       "\n",
       "    .dataframe thead th {\n",
       "        text-align: right;\n",
       "    }\n",
       "</style>\n",
       "<table border=\"1\" class=\"dataframe\">\n",
       "  <thead>\n",
       "    <tr style=\"text-align: right;\">\n",
       "      <th></th>\n",
       "      <th>Unnamed: 0</th>\n",
       "      <th>County_name</th>\n",
       "      <th>State</th>\n",
       "      <th>sex</th>\n",
       "      <th>symptom_status</th>\n",
       "      <th>hosp_yn</th>\n",
       "      <th>icu_yn</th>\n",
       "      <th>death_yn</th>\n",
       "      <th>underlying_conditions_yn</th>\n",
       "    </tr>\n",
       "    <tr>\n",
       "      <th>age_group</th>\n",
       "      <th></th>\n",
       "      <th></th>\n",
       "      <th></th>\n",
       "      <th></th>\n",
       "      <th></th>\n",
       "      <th></th>\n",
       "      <th></th>\n",
       "      <th></th>\n",
       "      <th></th>\n",
       "    </tr>\n",
       "  </thead>\n",
       "  <tbody>\n",
       "    <tr>\n",
       "      <th>0 - 17 years</th>\n",
       "      <td>23783</td>\n",
       "      <td>23783</td>\n",
       "      <td>23783</td>\n",
       "      <td>23783</td>\n",
       "      <td>23783</td>\n",
       "      <td>23783</td>\n",
       "      <td>23783</td>\n",
       "      <td>23783</td>\n",
       "      <td>23783</td>\n",
       "    </tr>\n",
       "    <tr>\n",
       "      <th>18 to 49 years</th>\n",
       "      <td>193648</td>\n",
       "      <td>193648</td>\n",
       "      <td>193648</td>\n",
       "      <td>193648</td>\n",
       "      <td>193648</td>\n",
       "      <td>193648</td>\n",
       "      <td>193648</td>\n",
       "      <td>193648</td>\n",
       "      <td>193648</td>\n",
       "    </tr>\n",
       "    <tr>\n",
       "      <th>50 to 64 years</th>\n",
       "      <td>109544</td>\n",
       "      <td>109544</td>\n",
       "      <td>109544</td>\n",
       "      <td>109544</td>\n",
       "      <td>109544</td>\n",
       "      <td>109544</td>\n",
       "      <td>109544</td>\n",
       "      <td>109544</td>\n",
       "      <td>109544</td>\n",
       "    </tr>\n",
       "    <tr>\n",
       "      <th>65+ years</th>\n",
       "      <td>119712</td>\n",
       "      <td>119712</td>\n",
       "      <td>119712</td>\n",
       "      <td>119712</td>\n",
       "      <td>119712</td>\n",
       "      <td>119712</td>\n",
       "      <td>119712</td>\n",
       "      <td>119712</td>\n",
       "      <td>119712</td>\n",
       "    </tr>\n",
       "    <tr>\n",
       "      <th>Missing</th>\n",
       "      <td>1</td>\n",
       "      <td>1</td>\n",
       "      <td>1</td>\n",
       "      <td>1</td>\n",
       "      <td>1</td>\n",
       "      <td>1</td>\n",
       "      <td>1</td>\n",
       "      <td>1</td>\n",
       "      <td>1</td>\n",
       "    </tr>\n",
       "  </tbody>\n",
       "</table>\n",
       "</div>"
      ],
      "text/plain": [
       "                Unnamed: 0  County_name   State     sex  symptom_status  \\\n",
       "age_group                                                                 \n",
       "0 - 17 years         23783        23783   23783   23783           23783   \n",
       "18 to 49 years      193648       193648  193648  193648          193648   \n",
       "50 to 64 years      109544       109544  109544  109544          109544   \n",
       "65+ years           119712       119712  119712  119712          119712   \n",
       "Missing                  1            1       1       1               1   \n",
       "\n",
       "                hosp_yn  icu_yn  death_yn  underlying_conditions_yn  \n",
       "age_group                                                            \n",
       "0 - 17 years      23783   23783     23783                     23783  \n",
       "18 to 49 years   193648  193648    193648                    193648  \n",
       "50 to 64 years   109544  109544    109544                    109544  \n",
       "65+ years        119712  119712    119712                    119712  \n",
       "Missing               1       1         1                         1  "
      ]
     },
     "execution_count": 9,
     "metadata": {},
     "output_type": "execute_result"
    }
   ],
   "source": [
    "data.groupby('age_group').count()"
   ]
  },
  {
   "cell_type": "code",
   "execution_count": 10,
   "id": "e49cc01d",
   "metadata": {},
   "outputs": [],
   "source": [
    "#sns.distplot(data['sex'])"
   ]
  },
  {
   "cell_type": "code",
   "execution_count": 11,
   "id": "b4cc0d5b",
   "metadata": {
    "scrolled": true
   },
   "outputs": [
    {
     "data": {
      "text/html": [
       "<div>\n",
       "<style scoped>\n",
       "    .dataframe tbody tr th:only-of-type {\n",
       "        vertical-align: middle;\n",
       "    }\n",
       "\n",
       "    .dataframe tbody tr th {\n",
       "        vertical-align: top;\n",
       "    }\n",
       "\n",
       "    .dataframe thead th {\n",
       "        text-align: right;\n",
       "    }\n",
       "</style>\n",
       "<table border=\"1\" class=\"dataframe\">\n",
       "  <thead>\n",
       "    <tr style=\"text-align: right;\">\n",
       "      <th></th>\n",
       "      <th>Unnamed: 0</th>\n",
       "      <th>County_name</th>\n",
       "      <th>State</th>\n",
       "      <th>age_group</th>\n",
       "      <th>symptom_status</th>\n",
       "      <th>hosp_yn</th>\n",
       "      <th>icu_yn</th>\n",
       "      <th>death_yn</th>\n",
       "      <th>underlying_conditions_yn</th>\n",
       "    </tr>\n",
       "    <tr>\n",
       "      <th>sex</th>\n",
       "      <th></th>\n",
       "      <th></th>\n",
       "      <th></th>\n",
       "      <th></th>\n",
       "      <th></th>\n",
       "      <th></th>\n",
       "      <th></th>\n",
       "      <th></th>\n",
       "      <th></th>\n",
       "    </tr>\n",
       "  </thead>\n",
       "  <tbody>\n",
       "    <tr>\n",
       "      <th>Female</th>\n",
       "      <td>245308</td>\n",
       "      <td>245308</td>\n",
       "      <td>245308</td>\n",
       "      <td>245308</td>\n",
       "      <td>245308</td>\n",
       "      <td>245308</td>\n",
       "      <td>245308</td>\n",
       "      <td>245308</td>\n",
       "      <td>245308</td>\n",
       "    </tr>\n",
       "    <tr>\n",
       "      <th>Male</th>\n",
       "      <td>201380</td>\n",
       "      <td>201380</td>\n",
       "      <td>201380</td>\n",
       "      <td>201380</td>\n",
       "      <td>201380</td>\n",
       "      <td>201380</td>\n",
       "      <td>201380</td>\n",
       "      <td>201380</td>\n",
       "      <td>201380</td>\n",
       "    </tr>\n",
       "  </tbody>\n",
       "</table>\n",
       "</div>"
      ],
      "text/plain": [
       "        Unnamed: 0  County_name   State  age_group  symptom_status  hosp_yn  \\\n",
       "sex                                                                           \n",
       "Female      245308       245308  245308     245308          245308   245308   \n",
       "Male        201380       201380  201380     201380          201380   201380   \n",
       "\n",
       "        icu_yn  death_yn  underlying_conditions_yn  \n",
       "sex                                                 \n",
       "Female  245308    245308                    245308  \n",
       "Male    201380    201380                    201380  "
      ]
     },
     "execution_count": 11,
     "metadata": {},
     "output_type": "execute_result"
    }
   ],
   "source": [
    "data.groupby('sex').count()"
   ]
  },
  {
   "cell_type": "code",
   "execution_count": 12,
   "id": "b3207aa1",
   "metadata": {
    "scrolled": true
   },
   "outputs": [
    {
     "data": {
      "text/plain": [
       "sex\n",
       "Female    245308\n",
       "Male      201380\n",
       "Name: death_yn, dtype: int64"
      ]
     },
     "execution_count": 12,
     "metadata": {},
     "output_type": "execute_result"
    }
   ],
   "source": [
    "data.groupby('sex')['death_yn'].count()"
   ]
  },
  {
   "cell_type": "code",
   "execution_count": 13,
   "id": "c2a0bb8d",
   "metadata": {
    "scrolled": true
   },
   "outputs": [
    {
     "data": {
      "text/plain": [
       "(446688, 10)"
      ]
     },
     "execution_count": 13,
     "metadata": {},
     "output_type": "execute_result"
    }
   ],
   "source": [
    "data.shape"
   ]
  },
  {
   "cell_type": "code",
   "execution_count": 14,
   "id": "1a7f8a36",
   "metadata": {
    "scrolled": true
   },
   "outputs": [
    {
     "data": {
      "text/plain": [
       "symptom_status  death_yn\n",
       "Asymptomatic    No           15219\n",
       "                Yes            524\n",
       "Symptomatic     No          410779\n",
       "                Yes          20166\n",
       "Name: Unnamed: 0, dtype: int64"
      ]
     },
     "execution_count": 14,
     "metadata": {},
     "output_type": "execute_result"
    }
   ],
   "source": [
    "data.groupby(['symptom_status', 'death_yn'])['Unnamed: 0'].count()"
   ]
  },
  {
   "cell_type": "code",
   "execution_count": 15,
   "id": "96a74438",
   "metadata": {
    "scrolled": true
   },
   "outputs": [
    {
     "data": {
      "text/html": [
       "<div>\n",
       "<style scoped>\n",
       "    .dataframe tbody tr th:only-of-type {\n",
       "        vertical-align: middle;\n",
       "    }\n",
       "\n",
       "    .dataframe tbody tr th {\n",
       "        vertical-align: top;\n",
       "    }\n",
       "\n",
       "    .dataframe thead th {\n",
       "        text-align: right;\n",
       "    }\n",
       "</style>\n",
       "<table border=\"1\" class=\"dataframe\">\n",
       "  <thead>\n",
       "    <tr style=\"text-align: right;\">\n",
       "      <th></th>\n",
       "      <th>Unnamed: 0</th>\n",
       "      <th>County_name</th>\n",
       "      <th>State</th>\n",
       "      <th>age_group</th>\n",
       "      <th>sex</th>\n",
       "      <th>symptom_status</th>\n",
       "      <th>hosp_yn</th>\n",
       "      <th>icu_yn</th>\n",
       "      <th>death_yn</th>\n",
       "      <th>underlying_conditions_yn</th>\n",
       "    </tr>\n",
       "  </thead>\n",
       "  <tbody>\n",
       "    <tr>\n",
       "      <th>0</th>\n",
       "      <td>0</td>\n",
       "      <td>Wayne</td>\n",
       "      <td>OH</td>\n",
       "      <td>65+ years</td>\n",
       "      <td>Male</td>\n",
       "      <td>Symptomatic</td>\n",
       "      <td>Yes</td>\n",
       "      <td>No</td>\n",
       "      <td>No</td>\n",
       "      <td>Yes</td>\n",
       "    </tr>\n",
       "    <tr>\n",
       "      <th>1</th>\n",
       "      <td>1</td>\n",
       "      <td>Wayne</td>\n",
       "      <td>OH</td>\n",
       "      <td>65+ years</td>\n",
       "      <td>Male</td>\n",
       "      <td>Symptomatic</td>\n",
       "      <td>Yes</td>\n",
       "      <td>No</td>\n",
       "      <td>No</td>\n",
       "      <td>Yes</td>\n",
       "    </tr>\n",
       "    <tr>\n",
       "      <th>2</th>\n",
       "      <td>2</td>\n",
       "      <td>Wayne</td>\n",
       "      <td>OH</td>\n",
       "      <td>65+ years</td>\n",
       "      <td>Male</td>\n",
       "      <td>Symptomatic</td>\n",
       "      <td>No</td>\n",
       "      <td>No</td>\n",
       "      <td>Yes</td>\n",
       "      <td>Yes</td>\n",
       "    </tr>\n",
       "    <tr>\n",
       "      <th>3</th>\n",
       "      <td>3</td>\n",
       "      <td>Wayne</td>\n",
       "      <td>OH</td>\n",
       "      <td>65+ years</td>\n",
       "      <td>Male</td>\n",
       "      <td>Symptomatic</td>\n",
       "      <td>No</td>\n",
       "      <td>No</td>\n",
       "      <td>No</td>\n",
       "      <td>Yes</td>\n",
       "    </tr>\n",
       "    <tr>\n",
       "      <th>4</th>\n",
       "      <td>4</td>\n",
       "      <td>Wayne</td>\n",
       "      <td>OH</td>\n",
       "      <td>65+ years</td>\n",
       "      <td>Male</td>\n",
       "      <td>Symptomatic</td>\n",
       "      <td>No</td>\n",
       "      <td>No</td>\n",
       "      <td>No</td>\n",
       "      <td>Yes</td>\n",
       "    </tr>\n",
       "  </tbody>\n",
       "</table>\n",
       "</div>"
      ],
      "text/plain": [
       "   Unnamed: 0 County_name State  age_group   sex symptom_status hosp_yn  \\\n",
       "0           0       Wayne    OH  65+ years  Male    Symptomatic     Yes   \n",
       "1           1       Wayne    OH  65+ years  Male    Symptomatic     Yes   \n",
       "2           2       Wayne    OH  65+ years  Male    Symptomatic      No   \n",
       "3           3       Wayne    OH  65+ years  Male    Symptomatic      No   \n",
       "4           4       Wayne    OH  65+ years  Male    Symptomatic      No   \n",
       "\n",
       "  icu_yn death_yn underlying_conditions_yn  \n",
       "0     No       No                      Yes  \n",
       "1     No       No                      Yes  \n",
       "2     No      Yes                      Yes  \n",
       "3     No       No                      Yes  \n",
       "4     No       No                      Yes  "
      ]
     },
     "execution_count": 15,
     "metadata": {},
     "output_type": "execute_result"
    }
   ],
   "source": [
    "data.head()"
   ]
  },
  {
   "cell_type": "code",
   "execution_count": 16,
   "id": "11eee040",
   "metadata": {},
   "outputs": [
    {
     "data": {
      "text/plain": [
       "Index(['Unnamed: 0', 'County_name_Adams', 'County_name_Addison',\n",
       "       'County_name_Alamance', 'County_name_Albany', 'County_name_Alexander',\n",
       "       'County_name_Allegheny', 'County_name_Allen', 'County_name_Anderson',\n",
       "       'County_name_Anne Arundel',\n",
       "       ...\n",
       "       'age_group_18 to 49 years', 'age_group_50 to 64 years',\n",
       "       'age_group_65+ years', 'age_group_Missing', 'sex_Male',\n",
       "       'symptom_status_Symptomatic', 'hosp_yn_Yes', 'icu_yn_Yes',\n",
       "       'death_yn_Yes', 'underlying_conditions_yn_Yes'],\n",
       "      dtype='object', length=517)"
      ]
     },
     "execution_count": 16,
     "metadata": {},
     "output_type": "execute_result"
    }
   ],
   "source": [
    "data = pd.get_dummies(data, drop_first = True)\n",
    "data.columns"
   ]
  },
  {
   "cell_type": "code",
   "execution_count": 17,
   "id": "08b2a685",
   "metadata": {},
   "outputs": [],
   "source": [
    "data = data[['age_group_18 to 49 years',\n",
    "       'age_group_50 to 64 years', 'age_group_65+ years', 'sex_Male', \n",
    "       'symptom_status_Symptomatic',  'hosp_yn_Yes', \n",
    "       'icu_yn_Yes', 'death_yn_Yes',\n",
    "      'underlying_conditions_yn_Yes']]"
   ]
  },
  {
   "cell_type": "code",
   "execution_count": 18,
   "id": "389126e6",
   "metadata": {},
   "outputs": [],
   "source": [
    "correlation = data.corr()"
   ]
  },
  {
   "cell_type": "code",
   "execution_count": 19,
   "id": "dbb3ef7d",
   "metadata": {},
   "outputs": [
    {
     "data": {
      "text/html": [
       "<div>\n",
       "<style scoped>\n",
       "    .dataframe tbody tr th:only-of-type {\n",
       "        vertical-align: middle;\n",
       "    }\n",
       "\n",
       "    .dataframe tbody tr th {\n",
       "        vertical-align: top;\n",
       "    }\n",
       "\n",
       "    .dataframe thead th {\n",
       "        text-align: right;\n",
       "    }\n",
       "</style>\n",
       "<table border=\"1\" class=\"dataframe\">\n",
       "  <thead>\n",
       "    <tr style=\"text-align: right;\">\n",
       "      <th></th>\n",
       "      <th>age_group_18 to 49 years</th>\n",
       "      <th>age_group_50 to 64 years</th>\n",
       "      <th>age_group_65+ years</th>\n",
       "      <th>sex_Male</th>\n",
       "      <th>symptom_status_Symptomatic</th>\n",
       "      <th>hosp_yn_Yes</th>\n",
       "      <th>icu_yn_Yes</th>\n",
       "      <th>death_yn_Yes</th>\n",
       "      <th>underlying_conditions_yn_Yes</th>\n",
       "    </tr>\n",
       "  </thead>\n",
       "  <tbody>\n",
       "    <tr>\n",
       "      <th>age_group_18 to 49 years</th>\n",
       "      <td>1.000000</td>\n",
       "      <td>-0.498653</td>\n",
       "      <td>-0.529326</td>\n",
       "      <td>-0.052905</td>\n",
       "      <td>0.034321</td>\n",
       "      <td>-0.248927</td>\n",
       "      <td>-0.137434</td>\n",
       "      <td>-0.182195</td>\n",
       "      <td>-0.075385</td>\n",
       "    </tr>\n",
       "    <tr>\n",
       "      <th>age_group_50 to 64 years</th>\n",
       "      <td>-0.498653</td>\n",
       "      <td>1.000000</td>\n",
       "      <td>-0.344903</td>\n",
       "      <td>0.020857</td>\n",
       "      <td>0.017404</td>\n",
       "      <td>0.015728</td>\n",
       "      <td>0.013689</td>\n",
       "      <td>-0.064642</td>\n",
       "      <td>0.069250</td>\n",
       "    </tr>\n",
       "    <tr>\n",
       "      <th>age_group_65+ years</th>\n",
       "      <td>-0.529326</td>\n",
       "      <td>-0.344903</td>\n",
       "      <td>1.000000</td>\n",
       "      <td>0.024220</td>\n",
       "      <td>-0.050186</td>\n",
       "      <td>0.311755</td>\n",
       "      <td>0.163857</td>\n",
       "      <td>0.293133</td>\n",
       "      <td>0.126899</td>\n",
       "    </tr>\n",
       "    <tr>\n",
       "      <th>sex_Male</th>\n",
       "      <td>-0.052905</td>\n",
       "      <td>0.020857</td>\n",
       "      <td>0.024220</td>\n",
       "      <td>1.000000</td>\n",
       "      <td>-0.004211</td>\n",
       "      <td>0.054584</td>\n",
       "      <td>0.067293</td>\n",
       "      <td>0.056586</td>\n",
       "      <td>0.014530</td>\n",
       "    </tr>\n",
       "    <tr>\n",
       "      <th>symptom_status_Symptomatic</th>\n",
       "      <td>0.034321</td>\n",
       "      <td>0.017404</td>\n",
       "      <td>-0.050186</td>\n",
       "      <td>-0.004211</td>\n",
       "      <td>1.000000</td>\n",
       "      <td>0.014882</td>\n",
       "      <td>0.024232</td>\n",
       "      <td>0.011853</td>\n",
       "      <td>-0.006263</td>\n",
       "    </tr>\n",
       "    <tr>\n",
       "      <th>hosp_yn_Yes</th>\n",
       "      <td>-0.248927</td>\n",
       "      <td>0.015728</td>\n",
       "      <td>0.311755</td>\n",
       "      <td>0.054584</td>\n",
       "      <td>0.014882</td>\n",
       "      <td>1.000000</td>\n",
       "      <td>0.458075</td>\n",
       "      <td>0.353466</td>\n",
       "      <td>0.114015</td>\n",
       "    </tr>\n",
       "    <tr>\n",
       "      <th>icu_yn_Yes</th>\n",
       "      <td>-0.137434</td>\n",
       "      <td>0.013689</td>\n",
       "      <td>0.163857</td>\n",
       "      <td>0.067293</td>\n",
       "      <td>0.024232</td>\n",
       "      <td>0.458075</td>\n",
       "      <td>1.000000</td>\n",
       "      <td>0.422779</td>\n",
       "      <td>0.058347</td>\n",
       "    </tr>\n",
       "    <tr>\n",
       "      <th>death_yn_Yes</th>\n",
       "      <td>-0.182195</td>\n",
       "      <td>-0.064642</td>\n",
       "      <td>0.293133</td>\n",
       "      <td>0.056586</td>\n",
       "      <td>0.011853</td>\n",
       "      <td>0.353466</td>\n",
       "      <td>0.422779</td>\n",
       "      <td>1.000000</td>\n",
       "      <td>0.054450</td>\n",
       "    </tr>\n",
       "    <tr>\n",
       "      <th>underlying_conditions_yn_Yes</th>\n",
       "      <td>-0.075385</td>\n",
       "      <td>0.069250</td>\n",
       "      <td>0.126899</td>\n",
       "      <td>0.014530</td>\n",
       "      <td>-0.006263</td>\n",
       "      <td>0.114015</td>\n",
       "      <td>0.058347</td>\n",
       "      <td>0.054450</td>\n",
       "      <td>1.000000</td>\n",
       "    </tr>\n",
       "  </tbody>\n",
       "</table>\n",
       "</div>"
      ],
      "text/plain": [
       "                              age_group_18 to 49 years  \\\n",
       "age_group_18 to 49 years                      1.000000   \n",
       "age_group_50 to 64 years                     -0.498653   \n",
       "age_group_65+ years                          -0.529326   \n",
       "sex_Male                                     -0.052905   \n",
       "symptom_status_Symptomatic                    0.034321   \n",
       "hosp_yn_Yes                                  -0.248927   \n",
       "icu_yn_Yes                                   -0.137434   \n",
       "death_yn_Yes                                 -0.182195   \n",
       "underlying_conditions_yn_Yes                 -0.075385   \n",
       "\n",
       "                              age_group_50 to 64 years  age_group_65+ years  \\\n",
       "age_group_18 to 49 years                     -0.498653            -0.529326   \n",
       "age_group_50 to 64 years                      1.000000            -0.344903   \n",
       "age_group_65+ years                          -0.344903             1.000000   \n",
       "sex_Male                                      0.020857             0.024220   \n",
       "symptom_status_Symptomatic                    0.017404            -0.050186   \n",
       "hosp_yn_Yes                                   0.015728             0.311755   \n",
       "icu_yn_Yes                                    0.013689             0.163857   \n",
       "death_yn_Yes                                 -0.064642             0.293133   \n",
       "underlying_conditions_yn_Yes                  0.069250             0.126899   \n",
       "\n",
       "                              sex_Male  symptom_status_Symptomatic  \\\n",
       "age_group_18 to 49 years     -0.052905                    0.034321   \n",
       "age_group_50 to 64 years      0.020857                    0.017404   \n",
       "age_group_65+ years           0.024220                   -0.050186   \n",
       "sex_Male                      1.000000                   -0.004211   \n",
       "symptom_status_Symptomatic   -0.004211                    1.000000   \n",
       "hosp_yn_Yes                   0.054584                    0.014882   \n",
       "icu_yn_Yes                    0.067293                    0.024232   \n",
       "death_yn_Yes                  0.056586                    0.011853   \n",
       "underlying_conditions_yn_Yes  0.014530                   -0.006263   \n",
       "\n",
       "                              hosp_yn_Yes  icu_yn_Yes  death_yn_Yes  \\\n",
       "age_group_18 to 49 years        -0.248927   -0.137434     -0.182195   \n",
       "age_group_50 to 64 years         0.015728    0.013689     -0.064642   \n",
       "age_group_65+ years              0.311755    0.163857      0.293133   \n",
       "sex_Male                         0.054584    0.067293      0.056586   \n",
       "symptom_status_Symptomatic       0.014882    0.024232      0.011853   \n",
       "hosp_yn_Yes                      1.000000    0.458075      0.353466   \n",
       "icu_yn_Yes                       0.458075    1.000000      0.422779   \n",
       "death_yn_Yes                     0.353466    0.422779      1.000000   \n",
       "underlying_conditions_yn_Yes     0.114015    0.058347      0.054450   \n",
       "\n",
       "                              underlying_conditions_yn_Yes  \n",
       "age_group_18 to 49 years                         -0.075385  \n",
       "age_group_50 to 64 years                          0.069250  \n",
       "age_group_65+ years                               0.126899  \n",
       "sex_Male                                          0.014530  \n",
       "symptom_status_Symptomatic                       -0.006263  \n",
       "hosp_yn_Yes                                       0.114015  \n",
       "icu_yn_Yes                                        0.058347  \n",
       "death_yn_Yes                                      0.054450  \n",
       "underlying_conditions_yn_Yes                      1.000000  "
      ]
     },
     "execution_count": 19,
     "metadata": {},
     "output_type": "execute_result"
    }
   ],
   "source": [
    "correlation"
   ]
  },
  {
   "cell_type": "code",
   "execution_count": 29,
   "id": "6455824d",
   "metadata": {
    "scrolled": false
   },
   "outputs": [
    {
     "data": {
      "image/png": "[encoded data removed]",
      "text/plain": [
       "<Figure size 720x720 with 2 Axes>"
      ]
     },
     "metadata": {
      "needs_background": "light"
     },
     "output_type": "display_data"
    }
   ],
   "source": [
    "plt.figure(figsize= (10,10)) \n",
    "sns.heatmap(correlation, xticklabels = correlation.columns, yticklabels=  correlation.columns, annot = True\t, cmap= \"coolwarm\"); \n"
   ]
  },
  {
   "cell_type": "code",
   "execution_count": 30,
   "id": "f114bb0e",
   "metadata": {
    "scrolled": false
   },
   "outputs": [
    {
     "data": {
      "text/plain": [
       "<seaborn.axisgrid.PairGrid at 0x2ad9db5db20>"
      ]
     },
     "execution_count": 30,
     "metadata": {},
     "output_type": "execute_result"
    },
    {
     "data": {
      "image/png": "[encoded data removed]",
      "text/plain": [
       "<Figure size 1620x1620 with 90 Axes>"
      ]
     },
     "metadata": {
      "needs_background": "light"
     },
     "output_type": "display_data"
    }
   ],
   "source": [
    "sns.pairplot(correlation)"
   ]
  },
  {
   "cell_type": "code",
   "execution_count": null,
   "id": "b9d79bcc",
   "metadata": {
    "scrolled": false
   },
   "outputs": [],
   "source": [
    "#sns.relplot(x= 'symptom_status_Symptomatic', y= 'icu_yn_Yes', hue= 'sex', data= data)"
   ]
  },
  {
   "cell_type": "code",
   "execution_count": null,
   "id": "b38dde31",
   "metadata": {},
   "outputs": [],
   "source": [
    "#sns.catplot(x= 'underlying_conditions_yn_Yes', kind= 'box', data= data)"
   ]
  },
  {
   "cell_type": "markdown",
   "id": "b117bebc",
   "metadata": {},
   "source": [
    "## For Visualization "
   ]
  },
  {
   "cell_type": "code",
   "execution_count": null,
   "id": "407e9354",
   "metadata": {},
   "outputs": [],
   "source": [
    "#data = pd.read_csv(\"C:/Users/Danie/OneDrive/Desktop/Columbia_Bootcamp/Modules/Module_20/class/Conditions_Contributing_to_COVID-19_Deaths__by_State_and_Age__Provisional_2020-2022.csv\")"
   ]
  },
  {
   "cell_type": "code",
   "execution_count": null,
   "id": "d5e3c2d8",
   "metadata": {},
   "outputs": [],
   "source": [
    "#data.head()"
   ]
  },
  {
   "cell_type": "code",
   "execution_count": null,
   "id": "e52deaf1",
   "metadata": {},
   "outputs": [],
   "source": [
    "#data.tail()"
   ]
  },
  {
   "cell_type": "code",
   "execution_count": null,
   "id": "031d0d52",
   "metadata": {},
   "outputs": [],
   "source": [
    "#data.describe()"
   ]
  },
  {
   "cell_type": "code",
   "execution_count": null,
   "id": "b4d4ee97",
   "metadata": {
    "scrolled": true
   },
   "outputs": [],
   "source": [
    "#data.nunique()"
   ]
  },
  {
   "cell_type": "code",
   "execution_count": null,
   "id": "513a9704",
   "metadata": {
    "scrolled": true
   },
   "outputs": [],
   "source": [
    "#data.isnull().sum()"
   ]
  },
  {
   "cell_type": "code",
   "execution_count": null,
   "id": "832ba7b7",
   "metadata": {
    "scrolled": true
   },
   "outputs": [],
   "source": [
    "#data['Condition Group'].unique()"
   ]
  },
  {
   "cell_type": "code",
   "execution_count": null,
   "id": "9c0a3f05",
   "metadata": {},
   "outputs": [],
   "source": []
  }
 ],
 "metadata": {
  "kernelspec": {
   "display_name": "PythonData",
   "language": "python",
   "name": "pythondata"
  },
  "language_info": {
   "codemirror_mode": {
    "name": "ipython",
    "version": 3
   },
   "file_extension": ".py",
   "mimetype": "text/x-python",
   "name": "python",
   "nbconvert_exporter": "python",
   "pygments_lexer": "ipython3",
   "version": "3.9.7"
  }
 },
 "nbformat": 4,
 "nbformat_minor": 5
}
