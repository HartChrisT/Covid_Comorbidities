{
 "cells": [
  {
   "cell_type": "code",
   "execution_count": 26,
   "id": "1ce816da",
   "metadata": {},
   "outputs": [],
   "source": [
    "import pandas as pd\n",
    "import numpy as np\n",
    "import seaborn as sns"
   ]
  },
  {
   "cell_type": "code",
   "execution_count": 36,
   "id": "e39414f3",
   "metadata": {},
   "outputs": [],
   "source": [
    "data = pd.read_csv(\"C:/Users/Danie/OneDrive/Desktop/Columbia_Bootcamp/Modules/Module_20/class/Covid_Comorbidities/Resources/Covid-19/Cleaned_Data/Deaths_per_month_by_state_gender.csv\")"
   ]
  },
  {
   "cell_type": "code",
   "execution_count": 37,
   "id": "a35f0b38",
   "metadata": {},
   "outputs": [
    {
     "data": {
      "text/html": [
       "<div>\n",
       "<style scoped>\n",
       "    .dataframe tbody tr th:only-of-type {\n",
       "        vertical-align: middle;\n",
       "    }\n",
       "\n",
       "    .dataframe tbody tr th {\n",
       "        vertical-align: top;\n",
       "    }\n",
       "\n",
       "    .dataframe thead th {\n",
       "        text-align: right;\n",
       "    }\n",
       "</style>\n",
       "<table border=\"1\" class=\"dataframe\">\n",
       "  <thead>\n",
       "    <tr style=\"text-align: right;\">\n",
       "      <th></th>\n",
       "      <th>Unnamed: 0</th>\n",
       "      <th>Month</th>\n",
       "      <th>Sex</th>\n",
       "      <th>State</th>\n",
       "      <th>COVID-19 Deaths</th>\n",
       "      <th>Pneumonia Deaths</th>\n",
       "      <th>Influenza Deaths</th>\n",
       "      <th>Total Deaths</th>\n",
       "    </tr>\n",
       "  </thead>\n",
       "  <tbody>\n",
       "    <tr>\n",
       "      <th>0</th>\n",
       "      <td>0</td>\n",
       "      <td>01-2020</td>\n",
       "      <td>All Sexes</td>\n",
       "      <td>Alabama</td>\n",
       "      <td>14718.0</td>\n",
       "      <td>11411.0</td>\n",
       "      <td>202.0</td>\n",
       "      <td>144885.0</td>\n",
       "    </tr>\n",
       "    <tr>\n",
       "      <th>1</th>\n",
       "      <td>1</td>\n",
       "      <td>01-2020</td>\n",
       "      <td>All Sexes</td>\n",
       "      <td>Alaska</td>\n",
       "      <td>411.0</td>\n",
       "      <td>422.0</td>\n",
       "      <td>0.0</td>\n",
       "      <td>11787.0</td>\n",
       "    </tr>\n",
       "    <tr>\n",
       "      <th>2</th>\n",
       "      <td>2</td>\n",
       "      <td>01-2020</td>\n",
       "      <td>All Sexes</td>\n",
       "      <td>Arizona</td>\n",
       "      <td>20871.0</td>\n",
       "      <td>20423.0</td>\n",
       "      <td>205.0</td>\n",
       "      <td>174985.0</td>\n",
       "    </tr>\n",
       "    <tr>\n",
       "      <th>3</th>\n",
       "      <td>3</td>\n",
       "      <td>01-2020</td>\n",
       "      <td>All Sexes</td>\n",
       "      <td>Arkansas</td>\n",
       "      <td>8616.0</td>\n",
       "      <td>8384.0</td>\n",
       "      <td>118.0</td>\n",
       "      <td>86047.0</td>\n",
       "    </tr>\n",
       "    <tr>\n",
       "      <th>4</th>\n",
       "      <td>4</td>\n",
       "      <td>01-2020</td>\n",
       "      <td>All Sexes</td>\n",
       "      <td>California</td>\n",
       "      <td>75804.0</td>\n",
       "      <td>82577.0</td>\n",
       "      <td>1828.0</td>\n",
       "      <td>726226.0</td>\n",
       "    </tr>\n",
       "  </tbody>\n",
       "</table>\n",
       "</div>"
      ],
      "text/plain": [
       "   Unnamed: 0    Month        Sex       State  COVID-19 Deaths  \\\n",
       "0           0  01-2020  All Sexes     Alabama          14718.0   \n",
       "1           1  01-2020  All Sexes      Alaska            411.0   \n",
       "2           2  01-2020  All Sexes     Arizona          20871.0   \n",
       "3           3  01-2020  All Sexes    Arkansas           8616.0   \n",
       "4           4  01-2020  All Sexes  California          75804.0   \n",
       "\n",
       "   Pneumonia Deaths  Influenza Deaths  Total Deaths  \n",
       "0           11411.0             202.0      144885.0  \n",
       "1             422.0               0.0       11787.0  \n",
       "2           20423.0             205.0      174985.0  \n",
       "3            8384.0             118.0       86047.0  \n",
       "4           82577.0            1828.0      726226.0  "
      ]
     },
     "execution_count": 37,
     "metadata": {},
     "output_type": "execute_result"
    }
   ],
   "source": [
    "data.head()\n"
   ]
  },
  {
   "cell_type": "code",
   "execution_count": 38,
   "id": "ee357085",
   "metadata": {},
   "outputs": [
    {
     "data": {
      "text/html": [
       "<div>\n",
       "<style scoped>\n",
       "    .dataframe tbody tr th:only-of-type {\n",
       "        vertical-align: middle;\n",
       "    }\n",
       "\n",
       "    .dataframe tbody tr th {\n",
       "        vertical-align: top;\n",
       "    }\n",
       "\n",
       "    .dataframe thead th {\n",
       "        text-align: right;\n",
       "    }\n",
       "</style>\n",
       "<table border=\"1\" class=\"dataframe\">\n",
       "  <thead>\n",
       "    <tr style=\"text-align: right;\">\n",
       "      <th></th>\n",
       "      <th>Unnamed: 0</th>\n",
       "      <th>Month</th>\n",
       "      <th>Sex</th>\n",
       "      <th>State</th>\n",
       "      <th>COVID-19 Deaths</th>\n",
       "      <th>Pneumonia Deaths</th>\n",
       "      <th>Influenza Deaths</th>\n",
       "      <th>Total Deaths</th>\n",
       "    </tr>\n",
       "  </thead>\n",
       "  <tbody>\n",
       "    <tr>\n",
       "      <th>481</th>\n",
       "      <td>481</td>\n",
       "      <td>01-2022</td>\n",
       "      <td>Male</td>\n",
       "      <td>Virginia</td>\n",
       "      <td>4471.0</td>\n",
       "      <td>3109.0</td>\n",
       "      <td>0.0</td>\n",
       "      <td>31025.0</td>\n",
       "    </tr>\n",
       "    <tr>\n",
       "      <th>482</th>\n",
       "      <td>482</td>\n",
       "      <td>01-2022</td>\n",
       "      <td>Male</td>\n",
       "      <td>Washington</td>\n",
       "      <td>2726.0</td>\n",
       "      <td>2624.0</td>\n",
       "      <td>0.0</td>\n",
       "      <td>24625.0</td>\n",
       "    </tr>\n",
       "    <tr>\n",
       "      <th>483</th>\n",
       "      <td>483</td>\n",
       "      <td>01-2022</td>\n",
       "      <td>Male</td>\n",
       "      <td>West Virginia</td>\n",
       "      <td>1513.0</td>\n",
       "      <td>1490.0</td>\n",
       "      <td>0.0</td>\n",
       "      <td>10431.0</td>\n",
       "    </tr>\n",
       "    <tr>\n",
       "      <th>484</th>\n",
       "      <td>484</td>\n",
       "      <td>01-2022</td>\n",
       "      <td>Male</td>\n",
       "      <td>Wisconsin</td>\n",
       "      <td>2840.0</td>\n",
       "      <td>1796.0</td>\n",
       "      <td>0.0</td>\n",
       "      <td>22706.0</td>\n",
       "    </tr>\n",
       "    <tr>\n",
       "      <th>485</th>\n",
       "      <td>485</td>\n",
       "      <td>01-2022</td>\n",
       "      <td>Male</td>\n",
       "      <td>Wyoming</td>\n",
       "      <td>145.0</td>\n",
       "      <td>127.0</td>\n",
       "      <td>0.0</td>\n",
       "      <td>1982.0</td>\n",
       "    </tr>\n",
       "  </tbody>\n",
       "</table>\n",
       "</div>"
      ],
      "text/plain": [
       "     Unnamed: 0    Month   Sex          State  COVID-19 Deaths  \\\n",
       "481         481  01-2022  Male       Virginia           4471.0   \n",
       "482         482  01-2022  Male     Washington           2726.0   \n",
       "483         483  01-2022  Male  West Virginia           1513.0   \n",
       "484         484  01-2022  Male      Wisconsin           2840.0   \n",
       "485         485  01-2022  Male        Wyoming            145.0   \n",
       "\n",
       "     Pneumonia Deaths  Influenza Deaths  Total Deaths  \n",
       "481            3109.0               0.0       31025.0  \n",
       "482            2624.0               0.0       24625.0  \n",
       "483            1490.0               0.0       10431.0  \n",
       "484            1796.0               0.0       22706.0  \n",
       "485             127.0               0.0        1982.0  "
      ]
     },
     "execution_count": 38,
     "metadata": {},
     "output_type": "execute_result"
    }
   ],
   "source": [
    "data.tail()"
   ]
  },
  {
   "cell_type": "code",
   "execution_count": 39,
   "id": "aed741de",
   "metadata": {},
   "outputs": [
    {
     "data": {
      "text/html": [
       "<div>\n",
       "<style scoped>\n",
       "    .dataframe tbody tr th:only-of-type {\n",
       "        vertical-align: middle;\n",
       "    }\n",
       "\n",
       "    .dataframe tbody tr th {\n",
       "        vertical-align: top;\n",
       "    }\n",
       "\n",
       "    .dataframe thead th {\n",
       "        text-align: right;\n",
       "    }\n",
       "</style>\n",
       "<table border=\"1\" class=\"dataframe\">\n",
       "  <thead>\n",
       "    <tr style=\"text-align: right;\">\n",
       "      <th></th>\n",
       "      <th>Unnamed: 0</th>\n",
       "      <th>COVID-19 Deaths</th>\n",
       "      <th>Pneumonia Deaths</th>\n",
       "      <th>Influenza Deaths</th>\n",
       "      <th>Total Deaths</th>\n",
       "    </tr>\n",
       "  </thead>\n",
       "  <tbody>\n",
       "    <tr>\n",
       "      <th>count</th>\n",
       "      <td>486.000000</td>\n",
       "      <td>4.860000e+02</td>\n",
       "      <td>486.000000</td>\n",
       "      <td>486.00000</td>\n",
       "      <td>4.860000e+02</td>\n",
       "    </tr>\n",
       "    <tr>\n",
       "      <th>mean</th>\n",
       "      <td>242.500000</td>\n",
       "      <td>1.840498e+04</td>\n",
       "      <td>16273.596708</td>\n",
       "      <td>166.81893</td>\n",
       "      <td>1.479318e+05</td>\n",
       "    </tr>\n",
       "    <tr>\n",
       "      <th>std</th>\n",
       "      <td>140.440379</td>\n",
       "      <td>7.781670e+04</td>\n",
       "      <td>69311.782716</td>\n",
       "      <td>1181.23652</td>\n",
       "      <td>6.211665e+05</td>\n",
       "    </tr>\n",
       "    <tr>\n",
       "      <th>min</th>\n",
       "      <td>0.000000</td>\n",
       "      <td>7.100000e+01</td>\n",
       "      <td>52.000000</td>\n",
       "      <td>0.00000</td>\n",
       "      <td>1.364000e+03</td>\n",
       "    </tr>\n",
       "    <tr>\n",
       "      <th>25%</th>\n",
       "      <td>121.250000</td>\n",
       "      <td>1.734500e+03</td>\n",
       "      <td>1584.750000</td>\n",
       "      <td>0.00000</td>\n",
       "      <td>1.658600e+04</td>\n",
       "    </tr>\n",
       "    <tr>\n",
       "      <th>50%</th>\n",
       "      <td>242.500000</td>\n",
       "      <td>4.998000e+03</td>\n",
       "      <td>4337.500000</td>\n",
       "      <td>0.00000</td>\n",
       "      <td>4.266400e+04</td>\n",
       "    </tr>\n",
       "    <tr>\n",
       "      <th>75%</th>\n",
       "      <td>363.750000</td>\n",
       "      <td>1.195650e+04</td>\n",
       "      <td>10769.500000</td>\n",
       "      <td>36.00000</td>\n",
       "      <td>9.816625e+04</td>\n",
       "    </tr>\n",
       "    <tr>\n",
       "      <th>max</th>\n",
       "      <td>485.000000</td>\n",
       "      <td>1.069992e+06</td>\n",
       "      <td>940330.000000</td>\n",
       "      <td>20786.00000</td>\n",
       "      <td>7.910948e+06</td>\n",
       "    </tr>\n",
       "  </tbody>\n",
       "</table>\n",
       "</div>"
      ],
      "text/plain": [
       "       Unnamed: 0  COVID-19 Deaths  Pneumonia Deaths  Influenza Deaths  \\\n",
       "count  486.000000     4.860000e+02        486.000000         486.00000   \n",
       "mean   242.500000     1.840498e+04      16273.596708         166.81893   \n",
       "std    140.440379     7.781670e+04      69311.782716        1181.23652   \n",
       "min      0.000000     7.100000e+01         52.000000           0.00000   \n",
       "25%    121.250000     1.734500e+03       1584.750000           0.00000   \n",
       "50%    242.500000     4.998000e+03       4337.500000           0.00000   \n",
       "75%    363.750000     1.195650e+04      10769.500000          36.00000   \n",
       "max    485.000000     1.069992e+06     940330.000000       20786.00000   \n",
       "\n",
       "       Total Deaths  \n",
       "count  4.860000e+02  \n",
       "mean   1.479318e+05  \n",
       "std    6.211665e+05  \n",
       "min    1.364000e+03  \n",
       "25%    1.658600e+04  \n",
       "50%    4.266400e+04  \n",
       "75%    9.816625e+04  \n",
       "max    7.910948e+06  "
      ]
     },
     "execution_count": 39,
     "metadata": {},
     "output_type": "execute_result"
    }
   ],
   "source": [
    "data.describe()"
   ]
  },
  {
   "cell_type": "code",
   "execution_count": 40,
   "id": "33c38339",
   "metadata": {
    "scrolled": false
   },
   "outputs": [
    {
     "data": {
      "text/plain": [
       "Unnamed: 0          486\n",
       "Month                 3\n",
       "Sex                   3\n",
       "State                54\n",
       "COVID-19 Deaths     480\n",
       "Pneumonia Deaths    483\n",
       "Influenza Deaths    126\n",
       "Total Deaths        484\n",
       "dtype: int64"
      ]
     },
     "execution_count": 40,
     "metadata": {},
     "output_type": "execute_result"
    }
   ],
   "source": [
    "data.nunique()"
   ]
  },
  {
   "cell_type": "code",
   "execution_count": 43,
   "id": "5a9c7ba9",
   "metadata": {
    "scrolled": true
   },
   "outputs": [
    {
     "data": {
      "text/plain": [
       "array(['All Sexes', 'Female', 'Male'], dtype=object)"
      ]
     },
     "execution_count": 43,
     "metadata": {},
     "output_type": "execute_result"
    }
   ],
   "source": [
    "data['Sex'].unique()"
   ]
  },
  {
   "cell_type": "code",
   "execution_count": 50,
   "id": "f40c1f54",
   "metadata": {},
   "outputs": [],
   "source": [
    "data = data[data.Sex != 'All Sexes']"
   ]
  },
  {
   "cell_type": "code",
   "execution_count": 52,
   "id": "decb0905",
   "metadata": {},
   "outputs": [],
   "source": [
    "death_gender_df = data.drop([\"Unnamed: 0\", \"Month\"], axis =1)"
   ]
  },
  {
   "cell_type": "code",
   "execution_count": 53,
   "id": "389126e6",
   "metadata": {},
   "outputs": [],
   "source": [
    "correlation = death_gender_df.corr()"
   ]
  },
  {
   "cell_type": "code",
   "execution_count": 54,
   "id": "6455824d",
   "metadata": {
    "scrolled": true
   },
   "outputs": [
    {
     "data": {
      "text/plain": [
       "<AxesSubplot:>"
      ]
     },
     "execution_count": 54,
     "metadata": {},
     "output_type": "execute_result"
    },
    {
     "data": {
      "image/png": "[encoded data removed]",
      "text/plain": [
       "<Figure size 432x288 with 2 Axes>"
      ]
     },
     "metadata": {
      "needs_background": "light"
     },
     "output_type": "display_data"
    }
   ],
   "source": [
    "sns.heatmap(correlation, xticklabels = correlation.columns, yticklabels=  correlation.columns, annot = True\t)"
   ]
  },
  {
   "cell_type": "code",
   "execution_count": 55,
   "id": "f114bb0e",
   "metadata": {
    "scrolled": true
   },
   "outputs": [
    {
     "data": {
      "text/plain": [
       "<seaborn.axisgrid.PairGrid at 0x28bce6b0bb0>"
      ]
     },
     "execution_count": 55,
     "metadata": {},
     "output_type": "execute_result"
    },
    {
     "data": {
      "image/png": "[encoded data removed]",
      "text/plain": [
       "<Figure size 720x720 with 20 Axes>"
      ]
     },
     "metadata": {
      "needs_background": "light"
     },
     "output_type": "display_data"
    }
   ],
   "source": [
    "sns.pairplot(death_gender_df)"
   ]
  },
  {
   "cell_type": "code",
   "execution_count": 63,
   "id": "b9d79bcc",
   "metadata": {
    "scrolled": true
   },
   "outputs": [
    {
     "data": {
      "text/plain": [
       "<seaborn.axisgrid.FacetGrid at 0x28cd31b4460>"
      ]
     },
     "execution_count": 63,
     "metadata": {},
     "output_type": "execute_result"
    },
    {
     "data": {
      "image/png": "[encoded data removed]",
      "text/plain": [
       "<Figure size 455x360 with 1 Axes>"
      ]
     },
     "metadata": {
      "needs_background": "light"
     },
     "output_type": "display_data"
    }
   ],
   "source": [
    "sns.relplot(x= 'Pneumonia Deaths', y= 'Influenza Deaths', hue= 'COVID-19 Deaths', data= death_gender_df)"
   ]
  },
  {
   "cell_type": "markdown",
   "id": "b117bebc",
   "metadata": {},
   "source": [
    "## Another Dataset"
   ]
  },
  {
   "cell_type": "code",
   "execution_count": 64,
   "id": "407e9354",
   "metadata": {},
   "outputs": [],
   "source": [
    "data = pd.read_csv(\"C:/Users/Danie/OneDrive/Desktop/Columbia_Bootcamp/Modules/Module_20/class/Conditions_Contributing_to_COVID-19_Deaths__by_State_and_Age__Provisional_2020-2022.csv\")"
   ]
  },
  {
   "cell_type": "code",
   "execution_count": 65,
   "id": "d5e3c2d8",
   "metadata": {},
   "outputs": [
    {
     "data": {
      "text/html": [
       "<div>\n",
       "<style scoped>\n",
       "    .dataframe tbody tr th:only-of-type {\n",
       "        vertical-align: middle;\n",
       "    }\n",
       "\n",
       "    .dataframe tbody tr th {\n",
       "        vertical-align: top;\n",
       "    }\n",
       "\n",
       "    .dataframe thead th {\n",
       "        text-align: right;\n",
       "    }\n",
       "</style>\n",
       "<table border=\"1\" class=\"dataframe\">\n",
       "  <thead>\n",
       "    <tr style=\"text-align: right;\">\n",
       "      <th></th>\n",
       "      <th>Data As Of</th>\n",
       "      <th>Start Date</th>\n",
       "      <th>End Date</th>\n",
       "      <th>Group</th>\n",
       "      <th>Year</th>\n",
       "      <th>Month</th>\n",
       "      <th>State</th>\n",
       "      <th>Condition Group</th>\n",
       "      <th>Condition</th>\n",
       "      <th>ICD10_codes</th>\n",
       "      <th>Age Group</th>\n",
       "      <th>COVID-19 Deaths</th>\n",
       "      <th>Number of Mentions</th>\n",
       "      <th>Flag</th>\n",
       "    </tr>\n",
       "  </thead>\n",
       "  <tbody>\n",
       "    <tr>\n",
       "      <th>0</th>\n",
       "      <td>05/22/2022</td>\n",
       "      <td>01/01/2020</td>\n",
       "      <td>05/21/2022</td>\n",
       "      <td>By Total</td>\n",
       "      <td>NaN</td>\n",
       "      <td>NaN</td>\n",
       "      <td>United States</td>\n",
       "      <td>Respiratory diseases</td>\n",
       "      <td>Influenza and pneumonia</td>\n",
       "      <td>J09-J18</td>\n",
       "      <td>0-24</td>\n",
       "      <td>1331.0</td>\n",
       "      <td>1393.0</td>\n",
       "      <td>NaN</td>\n",
       "    </tr>\n",
       "    <tr>\n",
       "      <th>1</th>\n",
       "      <td>05/22/2022</td>\n",
       "      <td>01/01/2020</td>\n",
       "      <td>05/21/2022</td>\n",
       "      <td>By Total</td>\n",
       "      <td>NaN</td>\n",
       "      <td>NaN</td>\n",
       "      <td>United States</td>\n",
       "      <td>Respiratory diseases</td>\n",
       "      <td>Influenza and pneumonia</td>\n",
       "      <td>J09-J18</td>\n",
       "      <td>25-34</td>\n",
       "      <td>5513.0</td>\n",
       "      <td>5717.0</td>\n",
       "      <td>NaN</td>\n",
       "    </tr>\n",
       "    <tr>\n",
       "      <th>2</th>\n",
       "      <td>05/22/2022</td>\n",
       "      <td>01/01/2020</td>\n",
       "      <td>05/21/2022</td>\n",
       "      <td>By Total</td>\n",
       "      <td>NaN</td>\n",
       "      <td>NaN</td>\n",
       "      <td>United States</td>\n",
       "      <td>Respiratory diseases</td>\n",
       "      <td>Influenza and pneumonia</td>\n",
       "      <td>J09-J18</td>\n",
       "      <td>35-44</td>\n",
       "      <td>14445.0</td>\n",
       "      <td>15025.0</td>\n",
       "      <td>NaN</td>\n",
       "    </tr>\n",
       "    <tr>\n",
       "      <th>3</th>\n",
       "      <td>05/22/2022</td>\n",
       "      <td>01/01/2020</td>\n",
       "      <td>05/21/2022</td>\n",
       "      <td>By Total</td>\n",
       "      <td>NaN</td>\n",
       "      <td>NaN</td>\n",
       "      <td>United States</td>\n",
       "      <td>Respiratory diseases</td>\n",
       "      <td>Influenza and pneumonia</td>\n",
       "      <td>J09-J18</td>\n",
       "      <td>45-54</td>\n",
       "      <td>35954.0</td>\n",
       "      <td>37335.0</td>\n",
       "      <td>NaN</td>\n",
       "    </tr>\n",
       "    <tr>\n",
       "      <th>4</th>\n",
       "      <td>05/22/2022</td>\n",
       "      <td>01/01/2020</td>\n",
       "      <td>05/21/2022</td>\n",
       "      <td>By Total</td>\n",
       "      <td>NaN</td>\n",
       "      <td>NaN</td>\n",
       "      <td>United States</td>\n",
       "      <td>Respiratory diseases</td>\n",
       "      <td>Influenza and pneumonia</td>\n",
       "      <td>J09-J18</td>\n",
       "      <td>55-64</td>\n",
       "      <td>78817.0</td>\n",
       "      <td>81643.0</td>\n",
       "      <td>NaN</td>\n",
       "    </tr>\n",
       "  </tbody>\n",
       "</table>\n",
       "</div>"
      ],
      "text/plain": [
       "   Data As Of  Start Date    End Date     Group  Year  Month          State  \\\n",
       "0  05/22/2022  01/01/2020  05/21/2022  By Total   NaN    NaN  United States   \n",
       "1  05/22/2022  01/01/2020  05/21/2022  By Total   NaN    NaN  United States   \n",
       "2  05/22/2022  01/01/2020  05/21/2022  By Total   NaN    NaN  United States   \n",
       "3  05/22/2022  01/01/2020  05/21/2022  By Total   NaN    NaN  United States   \n",
       "4  05/22/2022  01/01/2020  05/21/2022  By Total   NaN    NaN  United States   \n",
       "\n",
       "        Condition Group                Condition ICD10_codes Age Group  \\\n",
       "0  Respiratory diseases  Influenza and pneumonia     J09-J18      0-24   \n",
       "1  Respiratory diseases  Influenza and pneumonia     J09-J18     25-34   \n",
       "2  Respiratory diseases  Influenza and pneumonia     J09-J18     35-44   \n",
       "3  Respiratory diseases  Influenza and pneumonia     J09-J18     45-54   \n",
       "4  Respiratory diseases  Influenza and pneumonia     J09-J18     55-64   \n",
       "\n",
       "   COVID-19 Deaths  Number of Mentions Flag  \n",
       "0           1331.0              1393.0  NaN  \n",
       "1           5513.0              5717.0  NaN  \n",
       "2          14445.0             15025.0  NaN  \n",
       "3          35954.0             37335.0  NaN  \n",
       "4          78817.0             81643.0  NaN  "
      ]
     },
     "execution_count": 65,
     "metadata": {},
     "output_type": "execute_result"
    }
   ],
   "source": [
    "data.head()"
   ]
  },
  {
   "cell_type": "code",
   "execution_count": 66,
   "id": "e52deaf1",
   "metadata": {},
   "outputs": [
    {
     "data": {
      "text/html": [
       "<div>\n",
       "<style scoped>\n",
       "    .dataframe tbody tr th:only-of-type {\n",
       "        vertical-align: middle;\n",
       "    }\n",
       "\n",
       "    .dataframe tbody tr th {\n",
       "        vertical-align: top;\n",
       "    }\n",
       "\n",
       "    .dataframe thead th {\n",
       "        text-align: right;\n",
       "    }\n",
       "</style>\n",
       "<table border=\"1\" class=\"dataframe\">\n",
       "  <thead>\n",
       "    <tr style=\"text-align: right;\">\n",
       "      <th></th>\n",
       "      <th>Data As Of</th>\n",
       "      <th>Start Date</th>\n",
       "      <th>End Date</th>\n",
       "      <th>Group</th>\n",
       "      <th>Year</th>\n",
       "      <th>Month</th>\n",
       "      <th>State</th>\n",
       "      <th>Condition Group</th>\n",
       "      <th>Condition</th>\n",
       "      <th>ICD10_codes</th>\n",
       "      <th>Age Group</th>\n",
       "      <th>COVID-19 Deaths</th>\n",
       "      <th>Number of Mentions</th>\n",
       "      <th>Flag</th>\n",
       "    </tr>\n",
       "  </thead>\n",
       "  <tbody>\n",
       "    <tr>\n",
       "      <th>409855</th>\n",
       "      <td>05/22/2022</td>\n",
       "      <td>01/01/2022</td>\n",
       "      <td>01/31/2022</td>\n",
       "      <td>By Month</td>\n",
       "      <td>2022.0</td>\n",
       "      <td>1.0</td>\n",
       "      <td>Puerto Rico</td>\n",
       "      <td>COVID-19</td>\n",
       "      <td>COVID-19</td>\n",
       "      <td>U071</td>\n",
       "      <td>All Ages</td>\n",
       "      <td>621.0</td>\n",
       "      <td>621.0</td>\n",
       "      <td>NaN</td>\n",
       "    </tr>\n",
       "    <tr>\n",
       "      <th>409856</th>\n",
       "      <td>05/22/2022</td>\n",
       "      <td>02/01/2022</td>\n",
       "      <td>02/28/2022</td>\n",
       "      <td>By Month</td>\n",
       "      <td>2022.0</td>\n",
       "      <td>2.0</td>\n",
       "      <td>Puerto Rico</td>\n",
       "      <td>COVID-19</td>\n",
       "      <td>COVID-19</td>\n",
       "      <td>U071</td>\n",
       "      <td>All Ages</td>\n",
       "      <td>209.0</td>\n",
       "      <td>209.0</td>\n",
       "      <td>NaN</td>\n",
       "    </tr>\n",
       "    <tr>\n",
       "      <th>409857</th>\n",
       "      <td>05/22/2022</td>\n",
       "      <td>03/01/2022</td>\n",
       "      <td>03/31/2022</td>\n",
       "      <td>By Month</td>\n",
       "      <td>2022.0</td>\n",
       "      <td>3.0</td>\n",
       "      <td>Puerto Rico</td>\n",
       "      <td>COVID-19</td>\n",
       "      <td>COVID-19</td>\n",
       "      <td>U071</td>\n",
       "      <td>All Ages</td>\n",
       "      <td>47.0</td>\n",
       "      <td>47.0</td>\n",
       "      <td>NaN</td>\n",
       "    </tr>\n",
       "    <tr>\n",
       "      <th>409858</th>\n",
       "      <td>05/22/2022</td>\n",
       "      <td>04/01/2022</td>\n",
       "      <td>04/30/2022</td>\n",
       "      <td>By Month</td>\n",
       "      <td>2022.0</td>\n",
       "      <td>4.0</td>\n",
       "      <td>Puerto Rico</td>\n",
       "      <td>COVID-19</td>\n",
       "      <td>COVID-19</td>\n",
       "      <td>U071</td>\n",
       "      <td>All Ages</td>\n",
       "      <td>46.0</td>\n",
       "      <td>46.0</td>\n",
       "      <td>NaN</td>\n",
       "    </tr>\n",
       "    <tr>\n",
       "      <th>409859</th>\n",
       "      <td>05/22/2022</td>\n",
       "      <td>05/01/2022</td>\n",
       "      <td>05/21/2022</td>\n",
       "      <td>By Month</td>\n",
       "      <td>2022.0</td>\n",
       "      <td>5.0</td>\n",
       "      <td>Puerto Rico</td>\n",
       "      <td>COVID-19</td>\n",
       "      <td>COVID-19</td>\n",
       "      <td>U071</td>\n",
       "      <td>All Ages</td>\n",
       "      <td>54.0</td>\n",
       "      <td>54.0</td>\n",
       "      <td>NaN</td>\n",
       "    </tr>\n",
       "  </tbody>\n",
       "</table>\n",
       "</div>"
      ],
      "text/plain": [
       "        Data As Of  Start Date    End Date     Group    Year  Month  \\\n",
       "409855  05/22/2022  01/01/2022  01/31/2022  By Month  2022.0    1.0   \n",
       "409856  05/22/2022  02/01/2022  02/28/2022  By Month  2022.0    2.0   \n",
       "409857  05/22/2022  03/01/2022  03/31/2022  By Month  2022.0    3.0   \n",
       "409858  05/22/2022  04/01/2022  04/30/2022  By Month  2022.0    4.0   \n",
       "409859  05/22/2022  05/01/2022  05/21/2022  By Month  2022.0    5.0   \n",
       "\n",
       "              State Condition Group Condition ICD10_codes Age Group  \\\n",
       "409855  Puerto Rico        COVID-19  COVID-19        U071  All Ages   \n",
       "409856  Puerto Rico        COVID-19  COVID-19        U071  All Ages   \n",
       "409857  Puerto Rico        COVID-19  COVID-19        U071  All Ages   \n",
       "409858  Puerto Rico        COVID-19  COVID-19        U071  All Ages   \n",
       "409859  Puerto Rico        COVID-19  COVID-19        U071  All Ages   \n",
       "\n",
       "        COVID-19 Deaths  Number of Mentions Flag  \n",
       "409855            621.0               621.0  NaN  \n",
       "409856            209.0               209.0  NaN  \n",
       "409857             47.0                47.0  NaN  \n",
       "409858             46.0                46.0  NaN  \n",
       "409859             54.0                54.0  NaN  "
      ]
     },
     "execution_count": 66,
     "metadata": {},
     "output_type": "execute_result"
    }
   ],
   "source": [
    "data.tail()"
   ]
  },
  {
   "cell_type": "code",
   "execution_count": null,
   "id": "031d0d52",
   "metadata": {},
   "outputs": [],
   "source": []
  },
  {
   "cell_type": "code",
   "execution_count": null,
   "id": "b4d4ee97",
   "metadata": {},
   "outputs": [],
   "source": []
  }
 ],
 "metadata": {
  "kernelspec": {
   "display_name": "PythonData",
   "language": "python",
   "name": "pythondata"
  },
  "language_info": {
   "codemirror_mode": {
    "name": "ipython",
    "version": 3
   },
   "file_extension": ".py",
   "mimetype": "text/x-python",
   "name": "python",
   "nbconvert_exporter": "python",
   "pygments_lexer": "ipython3",
   "version": "3.9.7"
  }
 },
 "nbformat": 4,
 "nbformat_minor": 5
}
